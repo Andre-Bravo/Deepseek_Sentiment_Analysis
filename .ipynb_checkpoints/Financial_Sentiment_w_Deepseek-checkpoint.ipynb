{
 "cells": [
  {
   "cell_type": "code",
   "execution_count": 11,
   "id": "93920dad-045e-4461-9343-5cca2354addd",
   "metadata": {},
   "outputs": [],
   "source": [
    "import ollama\n",
    "from ollama import chat\n",
    "from ollama import ChatResponse\n",
    "import time\n",
    "import datetime\n",
    "import tiktoken\n",
    "import re\n",
    "import kagglehub"
   ]
  },
  {
   "cell_type": "code",
   "execution_count": 12,
   "id": "0a92f800-2151-41f5-9e04-1a51f864b3a3",
   "metadata": {},
   "outputs": [],
   "source": [
    "def ask_deepseek(input_content, system_prompt, deepthink = True, print_log = True):\n",
    "    response: ChatResponse = chat(model=\"huihui_ai/deepseek-r1-abliterated:14b-qwen-distill\",\n",
    "                                  messages=[\n",
    "                                      {'role' : 'system','content' : system_prompt},\n",
    "                                      {'role' : 'user','content' : input_content}\n",
    "                                      ]\n",
    "                                 )\n",
    "    response_text = response['message']['content']\n",
    "    if print_log: print(response_text)\n",
    "    #Extract and separate Deepthink:\n",
    "    think_texts = re.findall(r'<think>(.*?)</think>', response_text, flags=re.DOTALL)\n",
    "    think_texts = \"\\n\\n\".join(think_texts).strip()\n",
    "    #Exclude Deep Think and return response\n",
    "    clean_response = re.sub(r'<think>.*?</think>','', response_text, flags=re.DOTALL).strip()\n",
    "    #Return either response or tuple with response and deep think\n",
    "    return clean_response if not deep_think else (clean_response, think_texts)"
   ]
  },
  {
   "cell_type": "code",
   "execution_count": 13,
   "id": "1578e0e2-d682-4d06-93e6-f27660b3cfa8",
   "metadata": {},
   "outputs": [
    {
     "ename": "TypeError",
     "evalue": "dataset_load() missing 2 required positional arguments: 'handle' and 'path'",
     "output_type": "error",
     "traceback": [
      "\u001b[1;31m---------------------------------------------------------------------------\u001b[0m",
      "\u001b[1;31mTypeError\u001b[0m                                 Traceback (most recent call last)",
      "Cell \u001b[1;32mIn[13], line 1\u001b[0m\n\u001b[1;32m----> 1\u001b[0m \u001b[43mkagglehub\u001b[49m\u001b[38;5;241;43m.\u001b[39;49m\u001b[43mdataset_load\u001b[49m\u001b[43m(\u001b[49m\u001b[38;5;124;43m\"\u001b[39;49m\u001b[38;5;124;43mjp797498e/twitter-entity-sentiment-analysis\u001b[39;49m\u001b[38;5;124;43m\"\u001b[39;49m\u001b[43m)\u001b[49m\n",
      "\u001b[1;31mTypeError\u001b[0m: dataset_load() missing 2 required positional arguments: 'handle' and 'path'"
     ]
    }
   ],
   "source": [
    "kagglehub.dataset_load(\"jp797498e/twitter-entity-sentiment-analysis\")"
   ]
  },
  {
   "cell_type": "code",
   "execution_count": 3,
   "id": "3605d7c6-461f-4d88-b0c6-1fe82e04392d",
   "metadata": {},
   "outputs": [],
   "source": [
    "prompt = \"Explain Newton's Second Law of Motion as if speaking to a 12-year-old in 3 short sentences.\""
   ]
  },
  {
   "cell_type": "code",
   "execution_count": 4,
   "id": "ced82300-a661-4eae-99c9-1a9c461ca2b8",
   "metadata": {},
   "outputs": [],
   "source": [
    "start_timestamp = datetime.datetime.now().strftime(\"%Y-%m-%d %H:%M:%S\")\n",
    "start_time = time.time()\n",
    "\n",
    "response = ollama.chat(\n",
    "    model=\"huihui_ai/deepseek-r1-abliterated:14b-qwen-distill\",\n",
    "    messages=[\n",
    "        {\"role\": \"user\", \"content\": prompt},\n",
    "    ],\n",
    ")\n",
    "end_timestamp = datetime.datetime.now().strftime(\"%Y-%m-%d %H:%M:%S\")\n",
    "end_time = time.time()"
   ]
  },
  {
   "cell_type": "code",
   "execution_count": 5,
   "id": "b3924004-1724-4780-853c-538cd59fed10",
   "metadata": {},
   "outputs": [],
   "source": [
    "encoder = tiktoken.get_encoding(\"cl100k_base\")\n",
    "token_count = len(encoder.encode(response[\"message\"][\"content\"]))"
   ]
  },
  {
   "cell_type": "code",
   "execution_count": 6,
   "id": "c43a89aa-7852-43f4-9edf-4e33a71af4a9",
   "metadata": {},
   "outputs": [
    {
     "name": "stdout",
     "output_type": "stream",
     "text": [
      "\n",
      "Prompt 1 Time taken: 53.52 seconds     \n",
      "Prompt 1 start time is 2025-03-25 14:37:34 and end time is 2025-03-25 14:38:28     \n",
      "Prompt 1 token count is 297\n"
     ]
    }
   ],
   "source": [
    "print(\n",
    "    f\"\\nPrompt 1 Time taken: {end_time - start_time:.2f} seconds \\\n",
    "    \\nPrompt 1 start time is {start_timestamp} and end time is {end_timestamp} \\\n",
    "    \\nPrompt 1 token count is {token_count}\"\n",
    "    )"
   ]
  },
  {
   "cell_type": "code",
   "execution_count": 6,
   "id": "fe9673fe-ced5-4663-b785-636f0b545f59",
   "metadata": {
    "scrolled": true
   },
   "outputs": [
    {
     "name": "stdout",
     "output_type": "stream",
     "text": [
      "<think>\n",
      "Okay, so I need to explain Newton's Second Law of Motion to a 12-year-old in three short sentences. Hmm, let's start by recalling what the law actually is. From what I remember, it has something to do with force, mass, and acceleration. The formula is F = ma, where F is force, m is mass, and a is acceleration.\n",
      "\n",
      "Now, how can I make this simple for a kid? Maybe use an example they can relate to. Like pushing or pulling something. If I push a toy car, it moves, right? But if the car is heavy, it doesn't move as easily. So that relates to mass—more mass means more force needed.\n",
      "\n",
      "Acceleration could be how quickly the object speeds up. So if I push hard, the car goes faster quicker. Maybe compare pushing a light and heavy box. The heavier one needs more pushing to get moving or to speed up.\n",
      "\n",
      "I should make it concise. Maybe start by introducing force, then talk about mass affecting how much force is needed, and finally tie in acceleration as the result of that force. Let me structure it step by step.\n",
      "\n",
      "First sentence: Introduce the concept of force making things move or change speed.\n",
      "Second sentence: Explain that heavier objects need more force to move.\n",
      "Third sentence: Connect force to how quickly something speeds up or slows down.\n",
      "\n",
      "Let me put that together in simple terms. Maybe use examples like pushing a box or a toy car. Make sure it's clear and not too technical. Avoid jargon as much as possible. Okay, I think that makes sense.\n",
      "</think>\n",
      "\n",
      "Newton's Second Law of Motion says that when you push or pull something, you make it move or change speed. If the object is heavy, like a big box, you need to push harder to get it moving. The more force you use, the faster the object will go!\n"
     ]
    }
   ],
   "source": [
    "print(response[\"message\"][\"content\"])"
   ]
  },
  {
   "cell_type": "code",
   "execution_count": 7,
   "id": "d42d7645-d179-47fd-a1ed-408c0956ae20",
   "metadata": {},
   "outputs": [],
   "source": [
    "time.sleep(20)"
   ]
  },
  {
   "cell_type": "code",
   "execution_count": 8,
   "id": "a359d857-185a-444a-b8d7-680bde425320",
   "metadata": {},
   "outputs": [],
   "source": [
    "prompt = \"Explain Newton's First Law of Motion as if speaking to a 12-year-old in 3 short sentences.\""
   ]
  },
  {
   "cell_type": "code",
   "execution_count": 9,
   "id": "b2f82f5f-0561-4153-b01c-a337e6524e48",
   "metadata": {},
   "outputs": [],
   "source": [
    "start_timestamp = datetime.datetime.now().strftime(\"%Y-%m-%d %H:%M:%S\")\n",
    "start_time = time.time()\n",
    "\n",
    "response = ollama.chat(\n",
    "    model=\"deepseek-r1:14b\",\n",
    "    messages=[\n",
    "        {\"role\": \"user\", \"content\": prompt},\n",
    "    ],\n",
    "    )\n",
    "end_timestamp = datetime.datetime.now().strftime(\"%Y-%m-%d %H:%M:%S\")\n",
    "end_time = time.time()"
   ]
  },
  {
   "cell_type": "code",
   "execution_count": 10,
   "id": "c5b5db40-ae6f-48ba-afe7-af97cedf059b",
   "metadata": {},
   "outputs": [],
   "source": [
    "encoder = tiktoken.get_encoding(\"cl100k_base\")\n",
    "token_count = len(encoder.encode(response[\"message\"][\"content\"]))"
   ]
  },
  {
   "cell_type": "code",
   "execution_count": 11,
   "id": "65e89973-a083-4e11-85ae-6e2bc63f355f",
   "metadata": {},
   "outputs": [
    {
     "name": "stdout",
     "output_type": "stream",
     "text": [
      "\n",
      "Prompt 2 Time taken: 67.02 seconds     \n",
      "Prompt 2 start time is 2025-02-17 01:19:08 and end time is 2025-02-17 01:20:15     \n",
      "Prompt 2 token count is 561\n"
     ]
    }
   ],
   "source": [
    "print(\n",
    "    f\"\\nPrompt 2 Time taken: {end_time - start_time:.2f} seconds \\\n",
    "    \\nPrompt 2 start time is {start_timestamp} and end time is {end_timestamp} \\\n",
    "    \\nPrompt 2 token count is {token_count}\"\n",
    "    )"
   ]
  },
  {
   "cell_type": "code",
   "execution_count": 12,
   "id": "08f792cd-168e-4d3f-baf9-7f06b7b3b743",
   "metadata": {
    "scrolled": true
   },
   "outputs": [
    {
     "name": "stdout",
     "output_type": "stream",
     "text": [
      "<think>\n",
      "Okay, so I need to explain Newton's First Law of Motion to a 12-year-old using three short sentences. Hmm, let me think about how to break this down.\n",
      "\n",
      "First, I remember that Newton's laws are the basics of motion. The first one is about inertia, right? Inertia is like the tendency of an object to keep doing what it's already doing—either staying still or moving at a constant speed unless something acts on it.\n",
      "\n",
      "So, for a kid, maybe using examples they can relate to would help. Like if you're in a moving car and suddenly stop, your body moves forward because you want to keep going the same way the car was before it stopped. That's inertia.\n",
      "\n",
      "I should also mention that objects don't change their state on their own unless a force is applied. So, without any pushes or pulls, things just stay as they are. This could be phrased simply, maybe using everyday scenarios like sitting in a chair and not moving until someone taps you.\n",
      "\n",
      "Wait, but I need to make it three sentences. Let me outline:\n",
      "\n",
      "1. Introduce the law in simple terms—maybe something about objects staying still or moving at constant speed.\n",
      "2. Use an example they can visualize, like a ball on ice or being in a car when brakes are applied.\n",
      "3. Summarize by connecting it to force and inertia.\n",
      "\n",
      "I think that covers it without getting too technical. Avoiding jargon as much as possible is key here. Maybe avoid terms like 'force' if I can, but since it's part of the law, I might need to include it briefly.\n",
      "\n",
      "Wait, actually, Newton's First Law does mention force—specifically that an object will remain at rest or in uniform motion unless acted upon by a net external force. So perhaps including that is necessary but simplifying it.\n",
      "\n",
      "Let me try putting it all together:\n",
      "\n",
      "1. Objects keep doing what they're doing unless something makes them change.\n",
      "2. Like if you're in a moving car and stop suddenly, your body moves forward because it wants to keep going.\n",
      "3. This is called inertia, and it's why things don't start or stop on their own.\n",
      "\n",
      "That seems simple enough. Maybe the second sentence can be more relatable by using something they experience daily, like being in a vehicle. The third sentence ties it all together with the term 'inertia' so they know that's the name of this concept.\n",
      "</think>\n",
      "\n",
      "Newton's First Law of Motion says objects keep doing what they're doing unless something makes them change. If you're in a moving car and it stops suddenly, your body moves forward because it wants to keep going. This is called inertia, which explains why things don't start or stop on their own.\n"
     ]
    }
   ],
   "source": [
    "print(response[\"message\"][\"content\"])"
   ]
  }
 ],
 "metadata": {
  "kernelspec": {
   "display_name": "PyBoot313",
   "language": "python",
   "name": "pyboot313"
  },
  "language_info": {
   "codemirror_mode": {
    "name": "ipython",
    "version": 3
   },
   "file_extension": ".py",
   "mimetype": "text/x-python",
   "name": "python",
   "nbconvert_exporter": "python",
   "pygments_lexer": "ipython3",
   "version": "3.13.1"
  }
 },
 "nbformat": 4,
 "nbformat_minor": 5
}
